{
 "cells": [
  {
   "cell_type": "code",
   "execution_count": 1,
   "id": "a4ef2f2f-7f18-48ee-b254-39a428edcac0",
   "metadata": {},
   "outputs": [],
   "source": [
    "import os\n",
    "from Bio import Entrez\n",
    "from Bio import SeqIO"
   ]
  },
  {
   "cell_type": "code",
   "execution_count": 4,
   "id": "46473d15-a0b2-4d13-87d9-5261d743234d",
   "metadata": {},
   "outputs": [],
   "source": [
    "UWnet_ID = \"keku\" #replace this in with your NET ID"
   ]
  },
  {
   "cell_type": "code",
   "execution_count": 5,
   "id": "32d6a054-f38f-43e8-8a27-72f9a3b40f57",
   "metadata": {},
   "outputs": [],
   "source": [
    "Entrez.email = f'{UWnet_ID}@uw.edu'"
   ]
  },
  {
   "cell_type": "code",
   "execution_count": 6,
   "id": "b947f5ed-e808-4d07-904f-8b033f543a33",
   "metadata": {},
   "outputs": [],
   "source": [
    "stream = Entrez.esearch(db=\"protein\", idtype=\"acc\", term=\"VEGFA AND Homo sapiens[Orgn]\", retmax=10000)"
   ]
  },
  {
   "cell_type": "code",
   "execution_count": 7,
   "id": "1a6223e0-03f5-4804-a85d-ac749ff4c878",
   "metadata": {},
   "outputs": [],
   "source": [
    "record = Entrez.read(stream)"
   ]
  },
  {
   "cell_type": "code",
   "execution_count": 8,
   "id": "c69512e2-618d-4439-96a4-9fd2298882c1",
   "metadata": {},
   "outputs": [
    {
     "data": {
      "text/plain": [
       "'312'"
      ]
     },
     "execution_count": 8,
     "metadata": {},
     "output_type": "execute_result"
    }
   ],
   "source": [
    "record[\"Count\"]"
   ]
  },
  {
   "cell_type": "code",
   "execution_count": 9,
   "id": "cfca0b69-2373-409e-8fa9-e9af0e6ed70b",
   "metadata": {},
   "outputs": [
    {
     "data": {
      "text/plain": [
       "['BHE53204.1', 'BHE53203.1', 'BHE53202.1', 'NP_112177.2', 'NP_005470.2', 'NP_001316057.1', 'NP_005525.2', 'Q14135.5', 'P15692.3', 'Q9BZL6.3', 'P35916.3', 'P17252.4', 'Q15139.2', 'P17948.2', 'P53667.3', 'P02788.6', 'Q9BUL8.1', 'P35613.2', 'P05771.4', 'P35968.2', 'P54851.1', 'P41159.1', 'P01106.2', 'B0L3A2.1', 'Q96Q45.2', 'Q96AV8.3', 'Q7Z5L9.2', 'Q69YL0.1', 'O14786.3', 'A0AVK6.1', 'O00548.2', 'Q5VWQ8.2', 'Q9Y653.2', 'P49591.3', 'Q9NYA1.1', 'P80188.2', 'P35625.2', 'P08034.1', 'P0DME0.2', 'P41250.3', 'Q9Y3V2.4', 'Q9H8L6.2', 'P39060.5', 'Q99828.4', 'P42336.2', 'Q9C0D0.3', 'Q9Y2X7.2', 'Q9NQQ7.2', 'Q8IXJ6.2', 'P49763.2', 'O15431.1', 'Q9Y5L2.1', 'P27701.1', 'P21741.1', 'P08962.2', 'NP_004111.2', 'NP_057288.1', 'NP_003217.4', 'NP_001401407.1', 'NP_001401408.1', 'NP_001401403.1', 'NP_001401405.1', 'NP_001401402.1', 'NP_001401406.1', 'NP_001401404.1', 'NP_001401401.1', 'NP_001398004.1', 'NP_001381326.1', 'NP_001268917.1', 'NP_653170.3', 'NP_001381327.1', 'NP_001381328.1', 'NP_001369580.1', 'NP_001369582.1', 'NP_001369583.1', 'NP_001369625.1', 'NP_001369579.1', 'NP_001369603.1', 'NP_001369592.1', 'NP_001369622.1', 'NP_001369595.1', 'NP_001369608.1', 'NP_001369623.1', 'NP_001369605.1', 'NP_001369619.1', 'NP_001369611.1', 'NP_001369615.1', 'NP_001369617.1', 'NP_001369609.1', 'NP_001369607.1', 'NP_001369600.1', 'NP_001369621.1', 'NP_001369606.1', 'NP_001369578.1', 'NP_001369602.1', 'NP_001369618.1', 'NP_001369590.1', 'NP_001369596.1', 'NP_001369612.1', 'NP_001369626.1', 'NP_001369616.1', 'NP_001369581.1', 'NP_001369624.1', 'NP_001369599.1', 'NP_001369620.1', 'NP_001369585.1', 'NP_001369598.1', 'NP_001369601.1', 'NP_001369604.1', 'NP_001369614.1', 'NP_001369597.1', 'NP_001369589.1', 'NP_001369610.1', 'NP_001369613.1', 'NP_001369351.1', 'NP_001339742.1', 'NP_001300921.1', 'NP_001300922.1', 'NP_001292999.1', 'NP_001287737.1', 'NP_001287736.1', 'NP_001273578.1', 'NP_001269654.1', 'NP_001268916.1', 'NP_001268649.1', 'NP_001268645.1', 'NP_001241677.1', 'NP_001230448.1', 'NP_001192258.1', 'NP_694985.29', 'NP_001120693.1', 'NP_001027467.2', 'NP_997187.1', 'NP_996317.1', 'NP_057662.3', 'NP_003567.2', 'NP_002244.1', 'NP_001363692.1', 'NP_001358975.1', 'NP_001358976.1', 'NP_001358974.1', 'NP_001358280.1', 'NP_001358281.1', 'NP_001352833.1', 'NP_001352832.1', 'NP_001317576.1', 'NP_001288638.1', 'NP_001288637.1', 'NP_001288636.1', 'NP_001271319.1', 'NP_001230662.1', 'NP_001167551.1', 'NP_001121692.1', 'NP_055482.2', 'NP_001120694.1', 'NP_075461.2', 'NP_000059.3', 'NP_001028229.1', 'NP_056335.1', 'NP_004733.2', 'NP_659002.1', 'NP_006160.1', 'NP_003368.1', 'NP_001352834.1', 'NP_001339738.1', 'NP_001339737.1', 'NP_001337051.1', 'NP_001304324.1', 'NP_001271320.1', 'NP_001268647.1', 'NP_001268648.1', 'NP_001268646.1', 'NP_001243224.1', 'NP_001230444.1', 'NP_001230436.1', 'NP_001185573.1', 'NP_001127757.1', 'NP_001121693.1', 'NP_001121691.1', 'NP_001106869.1', 'NP_002775.3', 'NP_694991.2', 'NP_996318.1', 'NP_116147.1', 'NP_061828.1', 'NP_005230.1', 'NP_004445.1', 'NP_001350555.1', 'NP_001339746.1', 'NP_001339745.1', 'NP_001339744.1', 'NP_001339743.1', 'NP_001339741.1', 'NP_001339740.1', 'NP_001339739.1', 'NP_689733.4', 'NP_001337054.1', 'NP_001337053.1', 'NP_001337052.1', 'NP_001304328.1', 'NP_001300919.1', 'NP_001241678.1', 'NP_001238900.1', 'NP_001230447.1', 'NP_001230443.1', 'NP_001230442.1', 'NP_001230441.1', 'NP_001230440.1', 'NP_001230439.1', 'NP_001230438.1', 'NP_001230435.1', 'NP_001230434.1', 'NP_116190.3', 'NP_001191273.1', 'NP_001185574.1', 'NP_001182232.1', 'NP_006738.3', 'NP_001124000.1', 'NP_001123999.1', 'NP_001106868.1', 'NP_116254.4', 'NP_008968.4', 'NP_001003818.1', 'NP_001429.2', 'NP_612465.3', 'NP_620166.3', 'NP_002440.2', 'NP_003962.3', 'NP_005109.2', 'NP_477514.1', 'NP_060534.1', 'NP_114160.1', 'NP_004664.1', 'NP_003146.1', 'NP_003608.1', 'NP_003638.1', 'NP_001303939.1', 'NP_001273973.1', 'NP_001191314.1', 'NP_001191313.1', 'NP_001165101.1', 'NP_001165100.1', 'NP_001165099.1', 'NP_001165098.1', 'NP_001165097.1', 'NP_001165096.1', 'NP_001165095.1', 'NP_001165094.1', 'NP_001165093.1', 'NP_001028928.1', 'NP_001020541.2', 'NP_001020540.2', 'NP_001020539.2', 'NP_001020538.2', 'NP_003367.4', 'NP_001020537.2', 'NP_001243821.1', 'NP_001243820.1', 'NP_944490.1', 'NP_003121.1', '7VSW_N', '7VSW_M', '7VSW_J', '7VSW_I', '7VSW_F', '7VSW_E', '7VSW_B', '7VSW_A', '7VSU_B', '7VSU_A', '7VSU_D', '7VSU_C', '6T9E_LLL', '6T9E_HHH', '6T9E_DDD', '6T9E_CCC', '6T9E_BBB', '6T9E_AAA', 'NP_000588.3', 'NP_001278400.1', 'NP_001278399.1', 'NP_001278403.1', 'NP_001278401.1', 'NP_001278398.1', 'NP_001278397.1', 'NP_001278402.1', 'NP_001278404.1', 'BFH58146.1', '6T9D_LLL', '6T9D_HHH', '6T9D_DDD', '6T9D_CCC', '6T9D_BBB', '6T9D_AAA', 'AGL73885.1', 'AAH65522.2', 'AAH11177.2', 'AHO49117.1', 'AHO49116.1', 'AHO49115.1', 'AHO49114.1', 'AHC08489.1', 'AHC08488.1', 'AHC08487.1', 'AHC08486.1', 'AHC08485.1', 'AHC08484.1', 'AHC08483.1', 'AHC08482.1', 'AAP86646.1', 'BAG70265.1', 'BAG70136.1']"
      ]
     },
     "execution_count": 9,
     "metadata": {},
     "output_type": "execute_result"
    }
   ],
   "source": [
    "record[\"IdList\"]"
   ]
  },
  {
   "cell_type": "code",
   "execution_count": 11,
   "id": "7247a96b-4721-4040-8918-20a3b58a6bae",
   "metadata": {},
   "outputs": [],
   "source": [
    "#len(record[\"IdList\"])"
   ]
  },
  {
   "cell_type": "code",
   "execution_count": 12,
   "id": "b6bf501e-9afb-4a21-98fe-a8adda290758",
   "metadata": {},
   "outputs": [],
   "source": [
    "idlist = \",\".join(record[\"IdList\"])"
   ]
  },
  {
   "cell_type": "code",
   "execution_count": 13,
   "id": "76041f1d-90a0-4e10-b5f9-4f3dc6c40708",
   "metadata": {},
   "outputs": [],
   "source": [
    "#idlist"
   ]
  },
  {
   "cell_type": "code",
   "execution_count": 14,
   "id": "8b025fa3-2cc7-4aa6-bb2e-c5a3e53a846d",
   "metadata": {},
   "outputs": [],
   "source": [
    "stream = Entrez.efetch(db=\"protein\", id=idlist, rettype=\"gb\", retmode=\"text\")"
   ]
  },
  {
   "cell_type": "code",
   "execution_count": 16,
   "id": "30bdde43-f91b-4239-875f-5536210546f0",
   "metadata": {},
   "outputs": [],
   "source": [
    "records = SeqIO.parse(stream, \"gb\")"
   ]
  },
  {
   "cell_type": "code",
   "execution_count": 17,
   "id": "13c512c7-7ed7-488f-94f7-c802fd015db6",
   "metadata": {},
   "outputs": [],
   "source": [
    "#print(len(records))"
   ]
  },
  {
   "cell_type": "code",
   "execution_count": 21,
   "id": "f141e2c1-cbed-46ae-93e6-8909cfd3ff1b",
   "metadata": {},
   "outputs": [],
   "source": [
    "output_filename = \"output.fasta\"\n",
    "with open(output_filename, \"w\") as handle:\n",
    "    SeqIO.write(records, handle, \"fasta\")\n",
    "#ignore warning about BiopythonParserWarning: Dropping bond qualifer in feature location if it pops up"
   ]
  },
  {
   "cell_type": "code",
   "execution_count": 22,
   "id": "178cea72-53f8-4824-8d9c-91aba10ad869",
   "metadata": {},
   "outputs": [],
   "source": [
    "#for record in records:\n",
    "    #print(f\"{record.name}, length {len(record)}, with {len(record.features)} features\")\n",
    "#    print(f\">{record.id}    {record.description}\\n{record.seq}\")"
   ]
  },
  {
   "cell_type": "code",
   "execution_count": 23,
   "id": "7fc41bda-7db5-4f10-9acd-b67218c36cd2",
   "metadata": {},
   "outputs": [],
   "source": [
    "with open(output_filename, \"r\") as f:\n",
    "    for line in f:\n",
    "        print(line.strip())"
   ]
  },
  {
   "cell_type": "code",
   "execution_count": 38,
   "id": "cc7c9689-88d0-4bfd-8539-1306ac6065b6",
   "metadata": {},
   "outputs": [],
   "source": [
    "def create_FASTA(protein_name, species, count):\n",
    "    \"\"\"Create a FASTA file of a protein of interest in a particular species.\n",
    "    Example: create_FASTA(VEGFA, Homo sapiens, 20}\n",
    "    protein_name also takes ID input\n",
    "    Returns the requested number of matches from the NCBI's Entrez databases.\"\"\"\n",
    "    print(\"Genereating FASTA file...\")\n",
    "    stream = Entrez.esearch(db=\"protein\", idtype=\"acc\", term=f'{protein_name} AND {species}', retmax=count)\n",
    "    record = Entrez.read(stream)\n",
    "    idlist = \",\".join(record[\"IdList\"])\n",
    "    stream = Entrez.efetch(db=\"protein\", id=idlist, rettype=\"gb\", retmode=\"text\")\n",
    "    records = SeqIO.parse(stream, \"gb\")\n",
    "    \n",
    "    mod_protein_name = protein_name.replace(\" \", \"_\")\n",
    "    mod_species = species.replace(\" \", \"_\")\n",
    "    \n",
    "    folder_name = \"FASTA_files\"\n",
    "    os.makedirs(folder_name, exist_ok=True)\n",
    "    file_name = f'{mod_protein_name}_{mod_species}_output.fasta'\n",
    "    output_filename = os.path.join(folder_name, file_name)\n",
    "    \n",
    "    print(f'The length of the generated FASTA file for {protein_name} in {species} is {len(record[\"IdList\"])}.')\n",
    "    if len(record[\"IdList\"]) != count:\n",
    "        if len(record[\"IdList\"]) == 0:\n",
    "            return \">>>>> There are no results for the search terms you have provided! <<<<<\"\n",
    "        print(f'Requested number of matches ({count}) is unavaialble, this is all you get.')\n",
    "    print()\n",
    "    print(\"FASTA file output: \\n ----------------\")\n",
    "    with open(output_filename, \"w\") as handle:\n",
    "        SeqIO.write(records, handle, \"fasta\")\n",
    "\n",
    "    with open(output_filename, \"r\") as f:\n",
    "        for line in f:\n",
    "            print(line.strip())\n",
    "    "
   ]
  },
  {
   "cell_type": "code",
   "execution_count": 46,
   "id": "60b566b5-feb5-46bf-bee6-aeeb87633e50",
   "metadata": {},
   "outputs": [
    {
     "name": "stdout",
     "output_type": "stream",
     "text": [
      "Genereating FASTA file...\n",
      "The length of the generated FASTA file for Vascular endothelial growth factor A in Homo sapiens is 3.\n",
      "\n",
      "FASTA file output: \n",
      " ----------------\n",
      ">BHE53204.1 vascular endothelial growth factor A, partial [Homo sapiens]\n",
      "GQEEGASLRVSGTRFLTRKD\n",
      ">BHE53203.1 vascular endothelial growth factor A, partial [Homo sapiens]\n",
      "GQEEGASLRVSGTRSLTRKD\n",
      ">BHE53202.1 vascular endothelial growth factor A, partial [Homo sapiens]\n",
      "GQEEGASLRVSGTRSLTRKD\n"
     ]
    }
   ],
   "source": [
    "# This function produces a FASTA file (it will make a folder called \"FASTA_files\" in whatever folder this Jupyter Notebook is open in).\n",
    "\n",
    "create_FASTA(\"Vascular endothelial growth factor A\", \"Homo sapiens\", 3)"
   ]
  },
  {
   "cell_type": "code",
   "execution_count": null,
   "id": "4df6caf1-9a7e-4087-8e13-e267d1321439",
   "metadata": {},
   "outputs": [],
   "source": []
  },
  {
   "cell_type": "code",
   "execution_count": null,
   "id": "9319cf56-26ee-48b6-a5b8-59fec8f805c9",
   "metadata": {},
   "outputs": [],
   "source": []
  },
  {
   "cell_type": "code",
   "execution_count": null,
   "id": "bb6b2689-499d-44d3-b1ae-2ae1c95aff45",
   "metadata": {},
   "outputs": [],
   "source": []
  },
  {
   "cell_type": "code",
   "execution_count": null,
   "id": "26cfe576-dbe4-4706-85db-2596f42d6746",
   "metadata": {},
   "outputs": [],
   "source": []
  },
  {
   "cell_type": "code",
   "execution_count": null,
   "id": "d9748f54-40a7-4778-94d4-e2054b4573e4",
   "metadata": {},
   "outputs": [],
   "source": []
  }
 ],
 "metadata": {
  "kernelspec": {
   "display_name": "Python 3 (ipykernel)",
   "language": "python",
   "name": "python3"
  },
  "language_info": {
   "codemirror_mode": {
    "name": "ipython",
    "version": 3
   },
   "file_extension": ".py",
   "mimetype": "text/x-python",
   "name": "python",
   "nbconvert_exporter": "python",
   "pygments_lexer": "ipython3",
   "version": "3.11.4"
  }
 },
 "nbformat": 4,
 "nbformat_minor": 5
}
